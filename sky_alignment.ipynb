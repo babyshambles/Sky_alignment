{
 "cells": [
  {
   "cell_type": "code",
   "execution_count": 155,
   "metadata": {},
   "outputs": [],
   "source": [
    "import cv2 as cv\n",
    "import numpy as np\n",
    "import pymysql\n",
    "import math\n",
    "from collections import Counter"
   ]
  },
  {
   "cell_type": "code",
   "execution_count": 156,
   "metadata": {},
   "outputs": [],
   "source": [
    "# get the database\n",
    "def select_star(_bam,_cam,_dam,_cbm,_dbm):\n",
    "    db = pymysql.connect('127.0.0.1', 'root', 'QqQQ513203745', 'test2')\n",
    "    cursor = db.cursor()\n",
    "    sql = 'SELECT a.mag amag, b.mag bmag, c.mag cmag, d.mag dmag FROM star3 a, star3 b, star3 c , star3 d where b.mag-a.mag='+str(_bam)+'and c.mag-a.mag='+str(_cam)+'and d.mag-a.mag='+str(_dam)+'and c.mag-b.mag='+str(_cbm)+'and d.mag-b.mag='+str(_dbm)+'limit 3'\n",
    "    print(sql)\n",
    "    try:\n",
    "        cursor.execute(sql)\n",
    "        results = cursor.fetchall()\n",
    "        for row in results:\n",
    "            amag = row[0]\n",
    "            bmag = row[1]\n",
    "            cmag = row[2]\n",
    "            dmag = row[3]\n",
    "            dic = {'amag':amag, 'bamg':bmag, 'cmag':cmag, 'dmag':dmag}\n",
    "            print(dic)\n",
    "    except Exception as e:\n",
    "        print(e)\n",
    "        print('error: unable to fetch data')\n",
    "    db.close()"
   ]
  },
  {
   "cell_type": "code",
   "execution_count": 157,
   "metadata": {},
   "outputs": [],
   "source": [
    "def count_area(cnt):\n",
    "    area = cv.contourArea(cnt)\n",
    "    return area"
   ]
  },
  {
   "cell_type": "code",
   "execution_count": 158,
   "metadata": {},
   "outputs": [],
   "source": [
    "def custom_threshold(picname):\n",
    "    image = cv.imread(picname)\n",
    "    #Image Binaryzation\n",
    "    gray = cv.cvtColor(image, cv.COLOR_RGB2GRAY)\n",
    "    h, w = gray.shape[:2]\n",
    "    m = np.reshape(gray, [1,w*h])\n",
    "    mean = 120\n",
    "    ret, binary = cv.threshold(gray, mean, 255, cv.THRESH_BINARY)\n",
    "    binary, contours, hierarchy = cv.findContours(binary, cv.RETR_EXTERNAL, cv.CHAIN_APPROX_SIMPLE)\n",
    "    print('length', len(contours))\n",
    "    area = []\n",
    "    cont_arr = []\n",
    "    for i in range(len(contours)):\n",
    "        # Get the radius of every star\n",
    "        (x, y), radius = cv.minEnclosingCircle(contours[i])\n",
    "        if((h-y)>(h/5)):\n",
    "            area.append(cv.contourArea(contours[i]))\n",
    "            cont_arr.append(contours[i])\n",
    "    cont_arr.sort(key = count_area, reverse=True)\n",
    "    radius_arr = []\n",
    "    for i in range(0, len(cont_arr)):\n",
    "        if i == 4:\n",
    "            break;\n",
    "        (x,y),radius = cv.minEnclosingCircle(cont_arr[i])\n",
    "        radius_arr.append(radius)\n",
    "        center = (int(x), int(y))\n",
    "        radius = int(radius)\n",
    "        # the brightest star in the image\n",
    "        cv.circle(image, center, radius, (0, 255, 0), 2)\n",
    "    \n",
    "    scale_one=math.pow(radius_arr[0], 2)/math.pow(radius_arr[1], 2)\n",
    "    scale_two=math.pow(radius_arr[0], 2)/math.pow(radius_arr[2], 2)\n",
    "    scale_three=math.pow(radius_arr[0], 2)/math.pow(radius_arr[3], 2)\n",
    "    scale_four=math.pow(radius_arr[1], 2)/math.pow(radius_arr[2], 2)\n",
    "    scale_five=math.pow(radius_arr[1], 2)/math.pow(radius_arr[3], 2)\n",
    "    scale_six=math.pow(radius_arr[2], 2)/math.pow(radius_arr[3], 2)\n",
    "    \n",
    "    bam=round(math.log(scale_one,2.512),2)\n",
    "    cam=round(math.log(scale_two,2.512),2)\n",
    "    dam=round(math.log(scale_three,2.512),2)\n",
    "    cbm=round(math.log(scale_four,2.512),2)\n",
    "    dbm=round(math.log(scale_five,2.512),2)\n",
    "    print(select_star(bam,cam,dam,cbm,dbm))\n",
    "    \n",
    "    cv.imwrite(picname+\"_gray.jpg\", image)        "
   ]
  },
  {
   "cell_type": "code",
   "execution_count": 159,
   "metadata": {},
   "outputs": [
    {
     "name": "stdout",
     "output_type": "stream",
     "text": [
      "length 2542\n",
      "SELECT a.mag amag, b.mag bmag, c.mag cmag, d.mag dmag FROM star3 a, star3 b, star3 c , star3 d where b.mag-a.mag=-0.0and c.mag-a.mag=0.61and d.mag-a.mag=0.64and c.mag-b.mag=0.61and d.mag-b.mag=0.64limit 3\n",
      "{'amag': Decimal('0.9800000'), 'bamg': Decimal('0.9800000'), 'cmag': Decimal('1.5900000'), 'dmag': Decimal('1.6200000')}\n",
      "{'amag': Decimal('1.5900000'), 'bamg': Decimal('1.5900000'), 'cmag': Decimal('2.2000000'), 'dmag': Decimal('2.2300000')}\n",
      "{'amag': Decimal('1.5900000'), 'bamg': Decimal('1.5900000'), 'cmag': Decimal('2.2000000'), 'dmag': Decimal('2.2300000')}\n",
      "None\n"
     ]
    }
   ],
   "source": [
    "custom_threshold(\"Night_Sky_1.jpg\")"
   ]
  },
  {
   "cell_type": "code",
   "execution_count": 121,
   "metadata": {},
   "outputs": [],
   "source": [
    "import matplotlib.pyplot as plt\n",
    "from astropy.visualization import astropy_mpl_style, quantity_support\n",
    "plt.style.use(astropy_mpl_style)\n",
    "import astropy.units as u\n",
    "from astropy.time import Time\n",
    "from astropy.coordinates import SkyCoord, EarthLocation, AltAz"
   ]
  },
  {
   "cell_type": "code",
   "execution_count": 138,
   "metadata": {},
   "outputs": [],
   "source": [
    "def locate_star(star_ra, star_dec):\n",
    "    star = SkyCoord(star_ra, star_dec, frame='icrs', unit='deg')\n",
    "    earth_location = EarthLocation(lat=42.1*u.deg, lon=74*u.deg)\n",
    "    utcoffset = -4*u.hour  \n",
    "    time = Time('2017-10-12 01:11:00') - utcoffset\n",
    "    star_alt_azi = star.transform_to(AltAz(obstime=time,location=earth_location))\n",
    "    print(\"star's Altitude = {0.alt:.3}\".format(star_alt_azi))\n",
    "    print(\"star's Azimuth = {0.alt:.3}\".format(star_alt_azi))"
   ]
  },
  {
   "cell_type": "code",
   "execution_count": null,
   "metadata": {},
   "outputs": [],
   "source": []
  }
 ],
 "metadata": {
  "kernelspec": {
   "display_name": "Python 3",
   "language": "python",
   "name": "python3"
  },
  "language_info": {
   "codemirror_mode": {
    "name": "ipython",
    "version": 3
   },
   "file_extension": ".py",
   "mimetype": "text/x-python",
   "name": "python",
   "nbconvert_exporter": "python",
   "pygments_lexer": "ipython3",
   "version": "3.7.1"
  }
 },
 "nbformat": 4,
 "nbformat_minor": 2
}
